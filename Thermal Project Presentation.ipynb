{
 "cells": [
  {
   "cell_type": "code",
   "execution_count": 1,
   "metadata": {
    "collapsed": true,
    "slideshow": {
     "slide_type": "skip"
    }
   },
   "outputs": [],
   "source": [
    "## import pandas as pd\n",
    "import numpy as np\n",
    "import matplotlib.pyplot as plt #used for graphing"
   ]
  },
  {
   "cell_type": "code",
   "execution_count": 2,
   "metadata": {
    "collapsed": true,
    "slideshow": {
     "slide_type": "skip"
    }
   },
   "outputs": [],
   "source": [
    "#show graphs inline (do not use for print publication quality graphs)\n",
    "%matplotlib inline"
   ]
  },
  {
   "cell_type": "markdown",
   "metadata": {
    "slideshow": {
     "slide_type": "slide"
    }
   },
   "source": [
    "<center>\n",
    "# Bulk Modulus and the Speed of Sound  \n",
    "## By: Joshua Berg "
   ]
  },
  {
   "cell_type": "markdown",
   "metadata": {
    "slideshow": {
     "slide_type": "slide"
    }
   },
   "source": [
    "# Introduction \n",
    "\n",
    "- A sound wave is __not__ particles oscillating, it is a mechanical oscillation of a medium made of particles.\n",
    "\n",
    "- Medium behaviour comes from the average of the values of the many particles.\n",
    "\n",
    "- Soundwaves propogate through mediums (EX: air)\n",
    "\n",
    "<center>\n",
    "__FOCUS ON Sound WAVE AS A WHOLE__\n",
    "\n"
   ]
  },
  {
   "cell_type": "markdown",
   "metadata": {
    "slideshow": {
     "slide_type": "subslide"
    }
   },
   "source": [
    "- __Bulk Modulus__ is defined as the ratio of the change in pressure to the fractional volume compression\n",
    "- The bulk modulus of a solid influences the speed of sound and other mechanical waves in the material.\n",
    "\n",
    "$$ B \\equiv - \\frac{\\Delta P}{(\\frac{\\Delta V}{V})} $$ \n",
    "\n",
    "\n",
    "\n",
    "\n",
    "\n",
    "__USE BULK MODULUS TO CALCULATE SPEED OF SOUND__ "
   ]
  },
  {
   "cell_type": "markdown",
   "metadata": {
    "slideshow": {
     "slide_type": "slide"
    }
   },
   "source": [
    "## QUESTION:\n",
    "<center>\n",
    "#### What are some of the processes we can use to analyze different compressions? "
   ]
  },
  {
   "cell_type": "markdown",
   "metadata": {
    "slideshow": {
     "slide_type": "slide"
    }
   },
   "source": [
    "__Isothermal__ \n",
    "- Temperature stays the same \n",
    "- P & V constant as they change \n",
    "\n",
    "$$d(PV) = 0$$\n",
    "\n",
    "$$PdV + VdP = 0$$\n",
    "\n",
    "$$\\frac{dP}{dV} = \\frac{-P}{V}$$\n",
    "\n",
    "$$\\frac{dP}{(\\frac{dV}{V})} = -P$$\n",
    "\n",
    "for __larger__ changes in $P$ and $V$: \n",
    "\n",
    "\n",
    "$$\\frac{\\Delta P}{(\\frac{\\Delta V}{V})} = -P$$\n",
    "\n",
    "$$-B = -P$$\n",
    "\n",
    "$$\\boxed{\\therefore \\space  B = P}$$ "
   ]
  },
  {
   "cell_type": "markdown",
   "metadata": {
    "slideshow": {
     "slide_type": "subslide"
    }
   },
   "source": [
    "__Adiabatic__ \n",
    "- $PV^{\\gamma}$ Constant \n",
    "\n",
    "\n",
    "$$d(PV^{\\gamma}) = 0$$\n",
    "\n",
    "$$\\gamma PV^{\\gamma}V^{-1}dV + V^{\\gamma}dP = 0$$\n",
    "\n",
    "$${\\gamma}PV^{\\gamma - 1}dV + VdP = 0$$\n",
    "\n",
    "$$\\frac{dP}{dV} = \\frac{-\\gamma P}{V}$$\n",
    "\n",
    "$$\\frac{dP}{(-\\frac{dV}{V})} = \\gamma P$$\n",
    "\n",
    "\n",
    "for __larger__ changes in $P$ and $V$:\n",
    "\n",
    "\n",
    "$$\\frac{\\Delta{P}}{(-\\frac{\\Delta{V}}{V})} = {\\gamma}P$$\n",
    "\n",
    "$$\\boxed{\\therefore \\space  B = \\gamma P}$$\n",
    "\n",
    "\n"
   ]
  },
  {
   "cell_type": "markdown",
   "metadata": {
    "slideshow": {
     "slide_type": "subslide"
    }
   },
   "source": [
    "### How do these two compare? \n",
    "\n",
    "Bulk Modulus of Adiabatic compression is larger: \n",
    "\n",
    "$$\\gamma = \\frac{f + 2}{f}$$\n",
    "\n",
    "working with monatomic ideal gas: f = 3, therefore $\\gamma = \\frac{5}{3}$\n",
    "\n",
    "- Larger Bulk Modulus"
   ]
  },
  {
   "cell_type": "markdown",
   "metadata": {
    "slideshow": {
     "slide_type": "slide"
    }
   },
   "source": [
    "## QUESTION:\n",
    "<center>\n",
    "#### Which of these two processes should we use to calculate the speed of sound? "
   ]
  },
  {
   "cell_type": "markdown",
   "metadata": {
    "slideshow": {
     "slide_type": "subslide"
    }
   },
   "source": [
    "- Sound travels faster than heat \n",
    "- Adiabatic process has no heat transfer \n",
    "- Heat flow negligible between compressions of medium air"
   ]
  },
  {
   "cell_type": "markdown",
   "metadata": {
    "slideshow": {
     "slide_type": "slide"
    }
   },
   "source": [
    "## QUESTION:\n",
    "<center>\n",
    "#### How do we find the speed of sound for adiabatic compression at room temperature? "
   ]
  },
  {
   "cell_type": "markdown",
   "metadata": {
    "slideshow": {
     "slide_type": "subslide"
    }
   },
   "source": [
    "We know: $PV = nRT$ \n",
    "\n",
    "\n",
    "$$PV = \\frac{m}{M}RT$$\n",
    "\n",
    "$$\\frac{P}{(\\frac{m}{V})} = \\frac{RT}{M}$$ \n",
    "\n",
    "where $\\frac{m}{V}$ is the density ($\\rho$), therfore: \n",
    "\n",
    "$$\\frac{P}{\\rho} = \\frac{RT}{M}$$\n",
    "\n",
    "knowing that $C_{s} = \\sqrt{\\frac{B}{\\rho}}$ and that $B = P \\gamma$: \n",
    "\n",
    "$$C_{s} = \\sqrt{\\frac{P\\gamma}{\\rho}}$$\n",
    "\n",
    "\n",
    "$$\\boxed{C_{s} = \\sqrt{\\frac{\\gamma RT}{M}}}$$\n",
    "\n",
    "__OR__, remembering that $\\frac{R}{M} = \\frac{k}{m}$: \n",
    "\n",
    "$$\\boxed{C_{s} = \\sqrt{\\frac{\\gamma kT}{m}}}$$\n",
    "\n",
    "**Speed of sound in air in terms of temperature and average molecular mass**"
   ]
  },
  {
   "cell_type": "markdown",
   "metadata": {
    "slideshow": {
     "slide_type": "subslide"
    }
   },
   "source": [
    "#### Now we must calculate the ratio of sound in air: \n",
    "\n",
    "The rms speed of gas molecules: $C_{rms} = \\sqrt{\\frac{3k_{B}T}{M}}$.\n",
    "\n",
    "The ratio of sound in air (in terms of temperature and average molecular mass to rms speed of molecules in gas): \n",
    "\n",
    "$$\\frac{C_{s}}{C_{rms}} = \\frac{\\sqrt{\\frac{kT\\gamma}{M}}}{\\sqrt{\\frac{3kT}{M}}} = \\sqrt{\\frac{\\gamma}{3}}$$\n",
    "\n",
    "$\\gamma$ for air is 1.4, therefore: \n",
    "\n",
    "$$\\frac{C_{s}}{C_{rms}} = \\sqrt{\\frac{1.4}{3}} = \\boxed{0.68}$$ \n",
    "\n",
    "Therefore the speed of sound in air is less than the rms speed of gas molecules. "
   ]
  },
  {
   "cell_type": "markdown",
   "metadata": {
    "slideshow": {
     "slide_type": "subslide"
    }
   },
   "source": [
    "The speed of sound in an ideal gas at room temperature: \n",
    "\n",
    "$$C_{s} = \\sqrt{\\frac{RT\\gamma}{M}} = \\sqrt{\\frac{1.4(8.314 \\frac{J}{mol K})(300 K)}{0.029 \\frac{kg}{mol}}} = \\boxed{347  \\frac{m}{s}}$$\n"
   ]
  },
  {
   "cell_type": "markdown",
   "metadata": {
    "slideshow": {
     "slide_type": "slide"
    }
   },
   "source": [
    "## QUESTION:\n",
    "<center>\n",
    "#### Would playing the bagpipes at a higher altitude in a performance hall affect the tune? "
   ]
  },
  {
   "cell_type": "markdown",
   "metadata": {
    "slideshow": {
     "slide_type": "subslide"
    }
   },
   "source": [
    "The speed of sound can also be written as the following: \n",
    "$$c = \\sqrt{\\frac{P}{\\rho}}$$ \n",
    "\n",
    "but considering for an ideal gas $\\frac{P}{\\rho} \\approx T$,\n",
    "$$c = \\sqrt{T}$$\n",
    "\n",
    "With an increase in altitude there comes a decrease in temperature. Therefore at high altitudes, in theory, the speed of sound should be affected. Therfore the bagpipes would be out of tune. \n",
    "\n"
   ]
  },
  {
   "cell_type": "markdown",
   "metadata": {
    "slideshow": {
     "slide_type": "subslide"
    }
   },
   "source": [
    "$$C_{s} = \\sqrt{\\frac{RT\\gamma}{M}}$$ \n",
    "\n",
    "\n",
    "- Temperature is only none constant \n",
    "- Temperature affects the speed of sound $\\approx$ tune\n",
    "- Performance at high altitude __but__ indoors where it is room temperature. "
   ]
  },
  {
   "cell_type": "markdown",
   "metadata": {
    "slideshow": {
     "slide_type": "slide"
    }
   },
   "source": [
    "# Conclusion \n",
    "\n",
    "By applying Newton's laws to the oscillations of a continuous medium, it can be proven that the speed of sound of a wave is given by: \n",
    "\n",
    "$$C_{s} = \\sqrt{\\frac{B}{\\rho}}$$\n",
    "\n",
    "- Using Bulk Modulus "
   ]
  },
  {
   "cell_type": "markdown",
   "metadata": {
    "slideshow": {
     "slide_type": "slide"
    }
   },
   "source": [
    "## Future Research \n",
    "\n",
    "- Differences in sound when pouring cold water vs. hot water \n",
    "- How the speed of sound relates to the frequencies that we hear: "
   ]
  }
 ],
 "metadata": {
  "celltoolbar": "Slideshow",
  "kernelspec": {
   "display_name": "Python 3",
   "language": "python",
   "name": "python3"
  },
  "language_info": {
   "codemirror_mode": {
    "name": "ipython",
    "version": 3
   },
   "file_extension": ".py",
   "mimetype": "text/x-python",
   "name": "python",
   "nbconvert_exporter": "python",
   "pygments_lexer": "ipython3",
   "version": "3.6.0"
  }
 },
 "nbformat": 4,
 "nbformat_minor": 2
}
